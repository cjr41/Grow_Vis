{
 "cells": [
  {
   "cell_type": "markdown",
   "metadata": {},
   "source": [
    "# Modeling Microbial Growth\n",
    "Prepared by Cullen J. N. Roth"
   ]
  },
  {
   "cell_type": "markdown",
   "metadata": {},
   "source": [
    "# 0 Introduction to microbial growth\n",
    "## 0.1 Reading guides on how to read a scientific paper\n",
    "Here are three reading guides on with similar approaches on reading a scientific paper. \n",
    "\n",
    "[The first, hosted by elsevier](https://www.elsevier.com/connect/infographic-how-to-read-a-scientific-paper)\n",
    "\n",
    "[The second, from a professor at stanford](http://web.stanford.edu/~siegelr/readingsci.htm)\n",
    "\n",
    "[The thrid, a reading guide to scientific papers on ncbi](https://www.ncbi.nlm.nih.gov/pmc/articles/PMC3687192/)\n",
    "\n",
    "## 0.2 Introduction on microbial growth\n",
    "[An intro to bacterial/microbial growth](https://en.m.wikipedia.org/wiki/Bacterial_growth)\n",
    "\n",
    "[Background on _Saccharomyces cerevisiae_](https://en.wikipedia.org/wiki/Saccharomyces_cerevisiae)\n",
    "\n",
    "## 0.3 Various papers on modeling / measuring microbial growth.\n",
    "\n",
    "[\"Modeling of the Bacterial Growth Curve\"](https://www.ncbi.nlm.nih.gov/pmc/articles/PMC184525/pdf/aem00087-0379.pdf) \n",
    "\n",
    "[\"Investigation of the Best _Saccharomyces cerevisiae_ Growth Condition\"](https://www.ncbi.nlm.nih.gov/pmc/articles/PMC5308499/)\n",
    "\n",
    "[\"Colonyzer: automated quantification of micro-organism growth characteristics on solid agar\"](https://www.ncbi.nlm.nih.gov/pmc/articles/PMC2901369/)\n",
    "\n",
    "[\"Colony-live — a high-throughput method for measuring microbial colony growth kinetics— reveals diverse growth effects of gene knockouts in _Escherichia coli_\"](https://bmcmicrobiol.biomedcentral.com/articles/10.1186/1471-2180-14-171)"
   ]
  },
  {
   "cell_type": "markdown",
   "metadata": {},
   "source": [
    "# 1. Load modules and write functions for analysis of growth"
   ]
  },
  {
   "cell_type": "markdown",
   "metadata": {},
   "source": [
    "## 1.1 Import needed modules"
   ]
  },
  {
   "cell_type": "code",
   "execution_count": 1,
   "metadata": {
    "collapsed": true,
    "nbpresent": {
     "id": "4cfe851c-5601-44ed-bccf-202e267ad5d8"
    },
    "slideshow": {
     "slide_type": "-"
    }
   },
   "outputs": [],
   "source": [
    "import numpy as np ## Numpy is a useful family of functions in python for basic analysis\n",
    "import pandas as pd ## Pandas is a groupof functions for loading in files and manipulate dataframes\n",
    "from matplotlib import pyplot as plt ## Matplotib allows us to make pretty figures\n",
    "from scipy.optimize import curve_fit ## The curve fit ftn allows us to fit curves"
   ]
  },
  {
   "cell_type": "code",
   "execution_count": 2,
   "metadata": {
    "collapsed": true
   },
   "outputs": [],
   "source": [
    "%matplotlib inline"
   ]
  },
  {
   "cell_type": "markdown",
   "metadata": {
    "nbpresent": {
     "id": "29ec7c02-aeab-4b31-ab02-7c608823c842"
    },
    "slideshow": {
     "slide_type": "slide"
    }
   },
   "source": [
    "## 1.2 Functions for analysis of microbial growth curves.\n",
    "### Here we will define the growth models used in our analysis. These were taken from [Zwietering et al 1990](https://www.ncbi.nlm.nih.gov/pmc/articles/PMC184525/pdf/aem00087-0379.pdf) (see table 2). Below we have defined the functions in terms of the growing capacity (A), the maximum growth rate (u) and the lag time (l). "
   ]
  },
  {
   "cell_type": "code",
   "execution_count": 3,
   "metadata": {
    "collapsed": true,
    "nbpresent": {
     "id": "76f943b3-cd0f-4328-a514-f1283e603513"
    },
    "slideshow": {
     "slide_type": "slide"
    }
   },
   "outputs": [],
   "source": [
    "def gompertz(t,A,u,l):\n",
    "    \"\"\"Gompertz growth equation\"\"\"\n",
    "    y = A * np.exp(-np.exp(((u*np.exp(1)/A)*(l-t))+1))\n",
    "    return y\n",
    "\n",
    "def r_squared(y,y_approx):\n",
    "    \"\"\"Calculates the coefficent of determination\"\"\"\n",
    "    residuals = y - y_approx;\n",
    "    ss_res = np.sum(residuals**2);\n",
    "    ss_tot = np.sum((y-np.mean(y))**2);\n",
    "    return 1.0 - (ss_res / ss_tot)"
   ]
  },
  {
   "cell_type": "markdown",
   "metadata": {},
   "source": [
    "### 1.2.1\n",
    "##### Above, I've included the gompertz function, yet there are a few other growth models in [Zwietering et al 1990](https://www.ncbi.nlm.nih.gov/pmc/articles/PMC184525/pdf/aem00087-0379.pdf). Can you write your own grwoth model function or one of those included in Zwietering et al 1990?"
   ]
  },
  {
   "cell_type": "markdown",
   "metadata": {},
   "source": [
    "# 2. Setting variables and parameters"
   ]
  },
  {
   "cell_type": "markdown",
   "metadata": {},
   "source": [
    "#### For the gompertz growth model below we will display the results and curves for various growth paramaters."
   ]
  },
  {
   "cell_type": "markdown",
   "metadata": {},
   "source": [
    "## 2.1 Generate an array of time values \n",
    "#### Growth data is usually collected as some function of time. Don't forget units may matter! Here we are defining an array of time points in hours."
   ]
  },
  {
   "cell_type": "code",
   "execution_count": 4,
   "metadata": {},
   "outputs": [
    {
     "name": "stdout",
     "output_type": "stream",
     "text": [
      "[0 1 2 3 4]\n",
      "42\n"
     ]
    }
   ],
   "source": [
    "time = np.arange(0,42); ## What does np.arange do?\n",
    "print time[:5] ## Print the first 5 time points\n",
    "print len(time) ## make sure there are 42 values (hours)"
   ]
  },
  {
   "cell_type": "markdown",
   "metadata": {},
   "source": [
    "### 2.1.1\n",
    "##### How could we change the code above to get 72 (hours) time points?\n",
    "Your respose here\n",
    "### 2.1.2\n",
    "##### How could we change the code above to convert the units of our time points from hours to minutes?"
   ]
  },
  {
   "cell_type": "markdown",
   "metadata": {},
   "source": [
    "## 2.2 Set parameters of growth model"
   ]
  },
  {
   "cell_type": "markdown",
   "metadata": {},
   "source": [
    "#### Recall that our growth models need three parameters, A, u and l. \n",
    "### 2.2.1\n",
    "##### What do these parameters, A, u, and l represent?"
   ]
  },
  {
   "cell_type": "code",
   "execution_count": 5,
   "metadata": {
    "collapsed": true
   },
   "outputs": [],
   "source": [
    "A = [0.25, 0.5, 0.75] ## Set 3 different values for the carrying capacity\n",
    "u = [0.01, 0.05, 0.09] ## ... the max growth rate\n",
    "l = [20, 10, 5.0] ## ... and the lag (in hours)"
   ]
  },
  {
   "cell_type": "markdown",
   "metadata": {},
   "source": [
    "###### If we changed our units of time above from hours (to say minutes) be sure to change the units of lag. "
   ]
  },
  {
   "cell_type": "markdown",
   "metadata": {},
   "source": [
    "# 3. Calculate values from Growth (Gompertz) model"
   ]
  },
  {
   "cell_type": "markdown",
   "metadata": {},
   "source": [
    "#### Below we will feed into the gompertz growth function our values of A, u, l above. "
   ]
  },
  {
   "cell_type": "markdown",
   "metadata": {},
   "source": [
    "## 3.1 Calling the growth function"
   ]
  },
  {
   "cell_type": "code",
   "execution_count": 6,
   "metadata": {
    "collapsed": true
   },
   "outputs": [],
   "source": [
    "Y1 = gompertz(time,A[0],u[0],l[0]); ## Here we feed into our gompertz function the values of A, u, and l.\n",
    "Y2 = gompertz(time,A[1],u[1],l[1]);\n",
    "Y3 = gompertz(time,A[2],u[2],l[2]); ## What do these values return to you?"
   ]
  },
  {
   "cell_type": "markdown",
   "metadata": {},
   "source": [
    "### 3.1.1\n",
    "##### For our other growth models how would we call them as we did above for the gompertz growth functions?"
   ]
  },
  {
   "cell_type": "markdown",
   "metadata": {},
   "source": [
    "## 3.2 Display our Gompertz growth curves"
   ]
  },
  {
   "cell_type": "markdown",
   "metadata": {},
   "source": [
    "### Make some figures! "
   ]
  },
  {
   "cell_type": "code",
   "execution_count": 7,
   "metadata": {},
   "outputs": [
    {
     "data": {
      "image/png": "[encoded data removed]",
      "text/plain": [
       "<matplotlib.figure.Figure at 0x150bbb9510>"
      ]
     },
     "metadata": {},
     "output_type": "display_data"
    }
   ],
   "source": [
    "plt.plot(time,Y1,'red'); ## Plot models\n",
    "plt.plot(time,Y2,'orange');\n",
    "plt.plot(time,Y3,'olive');\n",
    "plt.xlim(np.min(time),np.max(time)) ## set xlim\n",
    "plt.ylim(-0.01,1); ## Set y limits\n",
    "plt.title('Gompertz Growth Models',fontsize=18); ## add title and labels\n",
    "plt.xlabel('Time \\n( hrs )',fontsize=14);\n",
    "plt.ylabel('Growth \\n( a.u. )',fontsize=14);"
   ]
  },
  {
   "cell_type": "markdown",
   "metadata": {},
   "source": [
    "### You can set your own parameters for growth equations in the cells above. \n",
    "### Play around with these models and parameters and make various figures. "
   ]
  },
  {
   "cell_type": "markdown",
   "metadata": {},
   "source": [
    "### 3.2.1\n",
    "##### What happens when we have longer or shorter lag times but the same values for A (carrygin capacity) and u (max growth rate)? \n",
    "### 3.2.2\n",
    "##### What happens when we have faster growth rates but similar l (lag) and A (carrying capacity)? \n",
    "### 3.2.3\n",
    "##### If A, the carrying capacity, is large, is it possible to reach this value if we have only have 48 hours?"
   ]
  },
  {
   "cell_type": "markdown",
   "metadata": {
    "nbpresent": {
     "id": "2cbc81b8-92e9-402b-a2b7-f861cb3a72ca"
    },
    "slideshow": {
     "slide_type": "slide"
    }
   },
   "source": [
    "# 4 Data Importation & Manipulation"
   ]
  },
  {
   "cell_type": "markdown",
   "metadata": {
    "collapsed": true,
    "nbpresent": {
     "id": "2c12cc80-fe34-471b-a75c-a81e12417066"
    }
   },
   "source": [
    "## 4.1 Bring in the data with pandas"
   ]
  },
  {
   "cell_type": "markdown",
   "metadata": {},
   "source": [
    "### Here we are bringing in \"test_data\" from a previous class.\n",
    "### pandas takes in a path to the data as input (You will need to download this data). You may need to change this path for your computer"
   ]
  },
  {
   "cell_type": "code",
   "execution_count": 8,
   "metadata": {
    "collapsed": true,
    "nbpresent": {
     "id": "5ab39765-10f5-4c85-bc49-97c3ff01a4a7"
    }
   },
   "outputs": [],
   "source": [
    "plate = pd.read_csv('test-data-noise-curves.csv',index_col=0) "
   ]
  },
  {
   "cell_type": "markdown",
   "metadata": {
    "nbpresent": {
     "id": "8ba74555-bbe5-4afd-ba29-6c3f93eb2feb"
    }
   },
   "source": [
    "## 4.2 See first five rows of data"
   ]
  },
  {
   "cell_type": "markdown",
   "metadata": {},
   "source": [
    "### Use the pandas function .head() to see the first 5 rows of data"
   ]
  },
  {
   "cell_type": "code",
   "execution_count": 9,
   "metadata": {
    "nbpresent": {
     "id": "d5b9d56a-928d-485e-abae-c85611210311"
    },
    "slideshow": {
     "slide_type": "slide"
    }
   },
   "outputs": [
    {
     "data": {
      "text/html": [
       "<div>\n",
       "<style>\n",
       "    .dataframe thead tr:only-child th {\n",
       "        text-align: right;\n",
       "    }\n",
       "\n",
       "    .dataframe thead th {\n",
       "        text-align: left;\n",
       "    }\n",
       "\n",
       "    .dataframe tbody tr th {\n",
       "        vertical-align: top;\n",
       "    }\n",
       "</style>\n",
       "<table border=\"1\" class=\"dataframe\">\n",
       "  <thead>\n",
       "    <tr style=\"text-align: right;\">\n",
       "      <th></th>\n",
       "      <th>0s</th>\n",
       "      <th>900s</th>\n",
       "      <th>1800s</th>\n",
       "      <th>2700s</th>\n",
       "      <th>3600s</th>\n",
       "      <th>4500s</th>\n",
       "      <th>5400s</th>\n",
       "      <th>6300s</th>\n",
       "      <th>7200s</th>\n",
       "      <th>8100s</th>\n",
       "      <th>...</th>\n",
       "      <th>163800s</th>\n",
       "      <th>164700s</th>\n",
       "      <th>165600s</th>\n",
       "      <th>166500s</th>\n",
       "      <th>167400s</th>\n",
       "      <th>168300s</th>\n",
       "      <th>169200s</th>\n",
       "      <th>170100s</th>\n",
       "      <th>171000s</th>\n",
       "      <th>171900s</th>\n",
       "    </tr>\n",
       "  </thead>\n",
       "  <tbody>\n",
       "    <tr>\n",
       "      <th>0</th>\n",
       "      <td>-0.006728</td>\n",
       "      <td>-0.009518</td>\n",
       "      <td>0.000901</td>\n",
       "      <td>-0.019982</td>\n",
       "      <td>-0.012343</td>\n",
       "      <td>-0.007857</td>\n",
       "      <td>-0.005212</td>\n",
       "      <td>0.003878</td>\n",
       "      <td>0.018012</td>\n",
       "      <td>0.033263</td>\n",
       "      <td>...</td>\n",
       "      <td>1.585205</td>\n",
       "      <td>1.580950</td>\n",
       "      <td>1.554202</td>\n",
       "      <td>1.668336</td>\n",
       "      <td>1.592005</td>\n",
       "      <td>1.601968</td>\n",
       "      <td>1.728209</td>\n",
       "      <td>1.721787</td>\n",
       "      <td>1.767322</td>\n",
       "      <td>1.848914</td>\n",
       "    </tr>\n",
       "    <tr>\n",
       "      <th>1</th>\n",
       "      <td>-0.006216</td>\n",
       "      <td>-0.004959</td>\n",
       "      <td>0.016718</td>\n",
       "      <td>0.009918</td>\n",
       "      <td>0.023782</td>\n",
       "      <td>0.026294</td>\n",
       "      <td>0.028418</td>\n",
       "      <td>0.044724</td>\n",
       "      <td>0.062535</td>\n",
       "      <td>0.061740</td>\n",
       "      <td>...</td>\n",
       "      <td>0.577392</td>\n",
       "      <td>0.715961</td>\n",
       "      <td>0.887199</td>\n",
       "      <td>0.657044</td>\n",
       "      <td>0.770191</td>\n",
       "      <td>0.902954</td>\n",
       "      <td>0.857790</td>\n",
       "      <td>0.720444</td>\n",
       "      <td>0.676292</td>\n",
       "      <td>0.704151</td>\n",
       "    </tr>\n",
       "    <tr>\n",
       "      <th>2</th>\n",
       "      <td>0.014310</td>\n",
       "      <td>0.026680</td>\n",
       "      <td>0.020328</td>\n",
       "      <td>0.016108</td>\n",
       "      <td>0.028596</td>\n",
       "      <td>0.021034</td>\n",
       "      <td>0.027532</td>\n",
       "      <td>0.054834</td>\n",
       "      <td>0.068923</td>\n",
       "      <td>0.091014</td>\n",
       "      <td>...</td>\n",
       "      <td>1.355502</td>\n",
       "      <td>1.481857</td>\n",
       "      <td>1.442368</td>\n",
       "      <td>1.515533</td>\n",
       "      <td>1.350536</td>\n",
       "      <td>1.438559</td>\n",
       "      <td>1.349407</td>\n",
       "      <td>1.360001</td>\n",
       "      <td>1.309549</td>\n",
       "      <td>1.508057</td>\n",
       "    </tr>\n",
       "    <tr>\n",
       "      <th>3</th>\n",
       "      <td>-0.012986</td>\n",
       "      <td>0.019901</td>\n",
       "      <td>-0.002616</td>\n",
       "      <td>-0.013316</td>\n",
       "      <td>-0.004356</td>\n",
       "      <td>-0.034862</td>\n",
       "      <td>-0.025796</td>\n",
       "      <td>-0.010606</td>\n",
       "      <td>-0.008099</td>\n",
       "      <td>-0.009221</td>\n",
       "      <td>...</td>\n",
       "      <td>1.081892</td>\n",
       "      <td>0.890958</td>\n",
       "      <td>0.927843</td>\n",
       "      <td>0.982865</td>\n",
       "      <td>0.984441</td>\n",
       "      <td>1.024042</td>\n",
       "      <td>0.920050</td>\n",
       "      <td>0.854640</td>\n",
       "      <td>0.907299</td>\n",
       "      <td>0.941895</td>\n",
       "    </tr>\n",
       "    <tr>\n",
       "      <th>4</th>\n",
       "      <td>-0.013064</td>\n",
       "      <td>-0.020180</td>\n",
       "      <td>-0.019808</td>\n",
       "      <td>-0.011905</td>\n",
       "      <td>-0.003638</td>\n",
       "      <td>-0.010940</td>\n",
       "      <td>-0.026825</td>\n",
       "      <td>-0.005954</td>\n",
       "      <td>-0.006570</td>\n",
       "      <td>-0.023109</td>\n",
       "      <td>...</td>\n",
       "      <td>1.769655</td>\n",
       "      <td>1.742483</td>\n",
       "      <td>1.740716</td>\n",
       "      <td>1.772994</td>\n",
       "      <td>1.823212</td>\n",
       "      <td>1.730364</td>\n",
       "      <td>1.793964</td>\n",
       "      <td>1.641036</td>\n",
       "      <td>1.703294</td>\n",
       "      <td>1.716095</td>\n",
       "    </tr>\n",
       "  </tbody>\n",
       "</table>\n",
       "<p>5 rows × 192 columns</p>\n",
       "</div>"
      ],
      "text/plain": [
       "         0s      900s     1800s     2700s     3600s     4500s     5400s  \\\n",
       "0 -0.006728 -0.009518  0.000901 -0.019982 -0.012343 -0.007857 -0.005212   \n",
       "1 -0.006216 -0.004959  0.016718  0.009918  0.023782  0.026294  0.028418   \n",
       "2  0.014310  0.026680  0.020328  0.016108  0.028596  0.021034  0.027532   \n",
       "3 -0.012986  0.019901 -0.002616 -0.013316 -0.004356 -0.034862 -0.025796   \n",
       "4 -0.013064 -0.020180 -0.019808 -0.011905 -0.003638 -0.010940 -0.026825   \n",
       "\n",
       "      6300s     7200s     8100s    ...      163800s   164700s   165600s  \\\n",
       "0  0.003878  0.018012  0.033263    ...     1.585205  1.580950  1.554202   \n",
       "1  0.044724  0.062535  0.061740    ...     0.577392  0.715961  0.887199   \n",
       "2  0.054834  0.068923  0.091014    ...     1.355502  1.481857  1.442368   \n",
       "3 -0.010606 -0.008099 -0.009221    ...     1.081892  0.890958  0.927843   \n",
       "4 -0.005954 -0.006570 -0.023109    ...     1.769655  1.742483  1.740716   \n",
       "\n",
       "    166500s   167400s   168300s   169200s   170100s   171000s   171900s  \n",
       "0  1.668336  1.592005  1.601968  1.728209  1.721787  1.767322  1.848914  \n",
       "1  0.657044  0.770191  0.902954  0.857790  0.720444  0.676292  0.704151  \n",
       "2  1.515533  1.350536  1.438559  1.349407  1.360001  1.309549  1.508057  \n",
       "3  0.982865  0.984441  1.024042  0.920050  0.854640  0.907299  0.941895  \n",
       "4  1.772994  1.823212  1.730364  1.793964  1.641036  1.703294  1.716095  \n",
       "\n",
       "[5 rows x 192 columns]"
      ]
     },
     "execution_count": 9,
     "metadata": {},
     "output_type": "execute_result"
    }
   ],
   "source": [
    "plate.head()"
   ]
  },
  {
   "cell_type": "markdown",
   "metadata": {},
   "source": [
    "## 4.3 Transpose functions\n",
    "#### Much like the .head() function, other functions on pandas dataframes such as the transpose (.T) can be used"
   ]
  },
  {
   "cell_type": "code",
   "execution_count": 10,
   "metadata": {},
   "outputs": [
    {
     "data": {
      "text/html": [
       "<div>\n",
       "<style>\n",
       "    .dataframe thead tr:only-child th {\n",
       "        text-align: right;\n",
       "    }\n",
       "\n",
       "    .dataframe thead th {\n",
       "        text-align: left;\n",
       "    }\n",
       "\n",
       "    .dataframe tbody tr th {\n",
       "        vertical-align: top;\n",
       "    }\n",
       "</style>\n",
       "<table border=\"1\" class=\"dataframe\">\n",
       "  <thead>\n",
       "    <tr style=\"text-align: right;\">\n",
       "      <th></th>\n",
       "      <th>0</th>\n",
       "      <th>1</th>\n",
       "      <th>2</th>\n",
       "      <th>3</th>\n",
       "      <th>4</th>\n",
       "      <th>5</th>\n",
       "      <th>6</th>\n",
       "      <th>7</th>\n",
       "      <th>8</th>\n",
       "      <th>9</th>\n",
       "      <th>...</th>\n",
       "      <th>90</th>\n",
       "      <th>91</th>\n",
       "      <th>92</th>\n",
       "      <th>93</th>\n",
       "      <th>94</th>\n",
       "      <th>95</th>\n",
       "      <th>96</th>\n",
       "      <th>97</th>\n",
       "      <th>98</th>\n",
       "      <th>99</th>\n",
       "    </tr>\n",
       "  </thead>\n",
       "  <tbody>\n",
       "    <tr>\n",
       "      <th>0s</th>\n",
       "      <td>-0.006728</td>\n",
       "      <td>-0.006216</td>\n",
       "      <td>0.014310</td>\n",
       "      <td>-0.012986</td>\n",
       "      <td>-0.013064</td>\n",
       "      <td>0.013692</td>\n",
       "      <td>0.007143</td>\n",
       "      <td>0.221805</td>\n",
       "      <td>0.011228</td>\n",
       "      <td>-0.006031</td>\n",
       "      <td>...</td>\n",
       "      <td>-0.014977</td>\n",
       "      <td>-0.015165</td>\n",
       "      <td>-0.011281</td>\n",
       "      <td>-0.013543</td>\n",
       "      <td>-0.009717</td>\n",
       "      <td>0.007916</td>\n",
       "      <td>-0.022338</td>\n",
       "      <td>-0.009677</td>\n",
       "      <td>0.001867</td>\n",
       "      <td>0.022442</td>\n",
       "    </tr>\n",
       "    <tr>\n",
       "      <th>900s</th>\n",
       "      <td>-0.009518</td>\n",
       "      <td>-0.004959</td>\n",
       "      <td>0.026680</td>\n",
       "      <td>0.019901</td>\n",
       "      <td>-0.020180</td>\n",
       "      <td>0.010608</td>\n",
       "      <td>0.008517</td>\n",
       "      <td>0.235355</td>\n",
       "      <td>0.010665</td>\n",
       "      <td>-0.006362</td>\n",
       "      <td>...</td>\n",
       "      <td>-0.022684</td>\n",
       "      <td>-0.025582</td>\n",
       "      <td>0.010021</td>\n",
       "      <td>-0.021104</td>\n",
       "      <td>0.006669</td>\n",
       "      <td>0.004961</td>\n",
       "      <td>-0.013438</td>\n",
       "      <td>-0.015403</td>\n",
       "      <td>-0.005912</td>\n",
       "      <td>0.007097</td>\n",
       "    </tr>\n",
       "    <tr>\n",
       "      <th>1800s</th>\n",
       "      <td>0.000901</td>\n",
       "      <td>0.016718</td>\n",
       "      <td>0.020328</td>\n",
       "      <td>-0.002616</td>\n",
       "      <td>-0.019808</td>\n",
       "      <td>0.010670</td>\n",
       "      <td>0.006148</td>\n",
       "      <td>0.255683</td>\n",
       "      <td>0.023767</td>\n",
       "      <td>-0.006029</td>\n",
       "      <td>...</td>\n",
       "      <td>-0.014689</td>\n",
       "      <td>-0.014478</td>\n",
       "      <td>0.000207</td>\n",
       "      <td>-0.001069</td>\n",
       "      <td>0.010938</td>\n",
       "      <td>0.004517</td>\n",
       "      <td>-0.010774</td>\n",
       "      <td>0.012659</td>\n",
       "      <td>-0.006913</td>\n",
       "      <td>0.019152</td>\n",
       "    </tr>\n",
       "    <tr>\n",
       "      <th>2700s</th>\n",
       "      <td>-0.019982</td>\n",
       "      <td>0.009918</td>\n",
       "      <td>0.016108</td>\n",
       "      <td>-0.013316</td>\n",
       "      <td>-0.011905</td>\n",
       "      <td>0.012460</td>\n",
       "      <td>0.017198</td>\n",
       "      <td>0.283198</td>\n",
       "      <td>0.056025</td>\n",
       "      <td>-0.000986</td>\n",
       "      <td>...</td>\n",
       "      <td>-0.008250</td>\n",
       "      <td>0.004308</td>\n",
       "      <td>0.004427</td>\n",
       "      <td>0.000232</td>\n",
       "      <td>0.013400</td>\n",
       "      <td>0.019878</td>\n",
       "      <td>-0.008738</td>\n",
       "      <td>-0.005242</td>\n",
       "      <td>0.012289</td>\n",
       "      <td>0.025615</td>\n",
       "    </tr>\n",
       "    <tr>\n",
       "      <th>3600s</th>\n",
       "      <td>-0.012343</td>\n",
       "      <td>0.023782</td>\n",
       "      <td>0.028596</td>\n",
       "      <td>-0.004356</td>\n",
       "      <td>-0.003638</td>\n",
       "      <td>0.007230</td>\n",
       "      <td>0.013217</td>\n",
       "      <td>0.309667</td>\n",
       "      <td>0.078901</td>\n",
       "      <td>-0.011553</td>\n",
       "      <td>...</td>\n",
       "      <td>-0.009188</td>\n",
       "      <td>-0.005404</td>\n",
       "      <td>-0.003392</td>\n",
       "      <td>0.007343</td>\n",
       "      <td>0.014418</td>\n",
       "      <td>0.015177</td>\n",
       "      <td>-0.018292</td>\n",
       "      <td>-0.009896</td>\n",
       "      <td>0.006730</td>\n",
       "      <td>0.021455</td>\n",
       "    </tr>\n",
       "  </tbody>\n",
       "</table>\n",
       "<p>5 rows × 100 columns</p>\n",
       "</div>"
      ],
      "text/plain": [
       "             0         1         2         3         4         5         6   \\\n",
       "0s    -0.006728 -0.006216  0.014310 -0.012986 -0.013064  0.013692  0.007143   \n",
       "900s  -0.009518 -0.004959  0.026680  0.019901 -0.020180  0.010608  0.008517   \n",
       "1800s  0.000901  0.016718  0.020328 -0.002616 -0.019808  0.010670  0.006148   \n",
       "2700s -0.019982  0.009918  0.016108 -0.013316 -0.011905  0.012460  0.017198   \n",
       "3600s -0.012343  0.023782  0.028596 -0.004356 -0.003638  0.007230  0.013217   \n",
       "\n",
       "             7         8         9     ...           90        91        92  \\\n",
       "0s     0.221805  0.011228 -0.006031    ...    -0.014977 -0.015165 -0.011281   \n",
       "900s   0.235355  0.010665 -0.006362    ...    -0.022684 -0.025582  0.010021   \n",
       "1800s  0.255683  0.023767 -0.006029    ...    -0.014689 -0.014478  0.000207   \n",
       "2700s  0.283198  0.056025 -0.000986    ...    -0.008250  0.004308  0.004427   \n",
       "3600s  0.309667  0.078901 -0.011553    ...    -0.009188 -0.005404 -0.003392   \n",
       "\n",
       "             93        94        95        96        97        98        99  \n",
       "0s    -0.013543 -0.009717  0.007916 -0.022338 -0.009677  0.001867  0.022442  \n",
       "900s  -0.021104  0.006669  0.004961 -0.013438 -0.015403 -0.005912  0.007097  \n",
       "1800s -0.001069  0.010938  0.004517 -0.010774  0.012659 -0.006913  0.019152  \n",
       "2700s  0.000232  0.013400  0.019878 -0.008738 -0.005242  0.012289  0.025615  \n",
       "3600s  0.007343  0.014418  0.015177 -0.018292 -0.009896  0.006730  0.021455  \n",
       "\n",
       "[5 rows x 100 columns]"
      ]
     },
     "execution_count": 10,
     "metadata": {},
     "output_type": "execute_result"
    }
   ],
   "source": [
    "plate.T.head()"
   ]
  },
  {
   "cell_type": "markdown",
   "metadata": {},
   "source": [
    "### 4.3.1\n",
    "##### Dataframes are made of a header, an index, columns and rows. What  in the dataframe above what part contains the time points, what units are these time points in, and how many are there?\n",
    "### 4.3.2\n",
    "##### What information does the function len() give you? Try typing in ?len() in a cell\n",
    "### 4.3.3\n",
    "##### Using the len() or .shape() functions how many test samples (not time points) are in the data?"
   ]
  },
  {
   "cell_type": "markdown",
   "metadata": {},
   "source": [
    "### 4.4\n",
    "##### How do we gather a sample?\n",
    "Look into using plate.loc or plate.iloc or plate.ix\n",
    "See ?plate.loc for help"
   ]
  },
  {
   "cell_type": "markdown",
   "metadata": {},
   "source": [
    "### 4.5\n",
    "##### Make a time vector! \n",
    "We see above that there is a header with numbers ending in \"s\" this is probably \"s\" for seconds. \n",
    "How many of these columns are there? \n",
    "What is the difference in time between consecutive columns?"
   ]
  },
  {
   "cell_type": "markdown",
   "metadata": {
    "nbpresent": {
     "id": "185294fc-5067-44bb-99c7-270e84a14306"
    }
   },
   "source": [
    "# 5 Analysis of test data"
   ]
  },
  {
   "cell_type": "markdown",
   "metadata": {},
   "source": [
    "## 5.1 Utilize the curve_fit function to fit growth models to our data"
   ]
  },
  {
   "cell_type": "markdown",
   "metadata": {},
   "source": [
    "### 5.1.1\n",
    "##### What does curve_fit do (you can check by typing in ?curve_fit in a cell)?"
   ]
  },
  {
   "cell_type": "markdown",
   "metadata": {},
   "source": [
    "#### The function curve_fit is not perfect. It can have trouble dealing with small values like ours. To avoid overflow errors we can scale our values between zero and one by normilizing via the maximum and re-scaling our parameters after fitting curves."
   ]
  },
  {
   "cell_type": "code",
   "execution_count": 11,
   "metadata": {
    "collapsed": true
   },
   "outputs": [],
   "source": [
    "?curve_fit"
   ]
  },
  {
   "cell_type": "markdown",
   "metadata": {},
   "source": [
    "### 5.1.2\n",
    "#### Gather the data from the dataframe"
   ]
  },
  {
   "cell_type": "code",
   "execution_count": 13,
   "metadata": {},
   "outputs": [],
   "source": [
    "## Gather the first sample or one of your choosing and call it \"ydata\"\n",
    "ydata = []"
   ]
  },
  {
   "cell_type": "code",
   "execution_count": 14,
   "metadata": {
    "collapsed": true
   },
   "outputs": [],
   "source": [
    "## Make a vector for time.\n",
    "## From above we should have made a time vector. Assign it to the variable \"xdata\"\n",
    "## Hint, see np.linspace()\n",
    "xdata = []"
   ]
  },
  {
   "cell_type": "markdown",
   "metadata": {},
   "source": [
    "### 5.1.3\n",
    "Make sure we have equal lengths in our vectors between the sample and time"
   ]
  },
  {
   "cell_type": "code",
   "execution_count": 15,
   "metadata": {
    "collapsed": true
   },
   "outputs": [],
   "source": [
    "assert len(xdata) == len(ydata) ## What does assert do?"
   ]
  },
  {
   "cell_type": "markdown",
   "metadata": {},
   "source": [
    "### 5.1.4 \n",
    "#### Scale the data and use curve fit function."
   ]
  },
  {
   "cell_type": "code",
   "execution_count": 16,
   "metadata": {},
   "outputs": [
    {
     "name": "stdout",
     "output_type": "stream",
     "text": [
      "[ 1.67105852  0.17345436  4.54783272]\n"
     ]
    }
   ],
   "source": [
    "scale = max(ydata) ## Collect the max y-value for this sample\n",
    "popt_gom, pcov_gom = curve_fit(gompertz, xdata, ydata/scale); ## Here we are deviding the y-values by the maximum\n",
    "popt_gom[:2] = popt_gom[:2] * scale ## We need to rescale the carrying capacity and maximum growth rate (but not lag)\n",
    "print popt_gom"
   ]
  },
  {
   "cell_type": "markdown",
   "metadata": {},
   "source": [
    "## 5.2 Calculate the approximation from our curve fitting"
   ]
  },
  {
   "cell_type": "code",
   "execution_count": 17,
   "metadata": {
    "collapsed": true,
    "nbpresent": {
     "id": "4944b4b6-3210-4158-ad05-2771673c967a"
    }
   },
   "outputs": [],
   "source": [
    "yhat_gom = gompertz(xdata,*popt_gom) ## here we are putting into gompertz the values from popt_gom"
   ]
  },
  {
   "cell_type": "markdown",
   "metadata": {},
   "source": [
    "### 5.2.1\n",
    "##### What does the \"*\" symbol do to the variable popt_gom?"
   ]
  },
  {
   "cell_type": "markdown",
   "metadata": {},
   "source": [
    "## 5.3 Calculate the coefficient of determenation"
   ]
  },
  {
   "cell_type": "code",
   "execution_count": 18,
   "metadata": {},
   "outputs": [
    {
     "name": "stdout",
     "output_type": "stream",
     "text": [
      "R2 Gompertz: 0.973\n"
     ]
    }
   ],
   "source": [
    "print \"R2 Gompertz:\", round(r_squared(ydata,yhat_gom),3)"
   ]
  },
  {
   "cell_type": "markdown",
   "metadata": {},
   "source": [
    "#### 5.4 Plot our data and fit"
   ]
  },
  {
   "cell_type": "code",
   "execution_count": 19,
   "metadata": {
    "nbpresent": {
     "id": "a8e4a1cd-01a5-4289-a79a-049d8a5ecdcc"
    },
    "slideshow": {
     "slide_type": "slide"
    }
   },
   "outputs": [
    {
     "data": {
      "image/png": "[encoded data removed]",
      "text/plain": [
       "<matplotlib.figure.Figure at 0x1513451450>"
      ]
     },
     "metadata": {},
     "output_type": "display_data"
    }
   ],
   "source": [
    "plt.plot(xdata, ydata, '.k', label='Data',alpha=.5); ## Plot sample data\n",
    "plt.plot(xdata, yhat_gom,'-g', label='Gompertz',alpha=.9); ## Plot growth model\n",
    "plt.annotate(\"u: \" + str(round(popt_gom[1],3)),(20,.15)); ## Add in text with the calculated parameters (u)\n",
    "plt.annotate(\"A: \" + str(round(popt_gom[0],3)),(xdata[-10],popt_gom[0]+.01)); ## ... for A\n",
    "plt.annotate(\"l: \" + str(round(popt_gom[-1],3)),(popt_gom[-1],0)); ## ... for l \n",
    "plt.ylabel('Optical Density\\n( a.u. )',fontsize=14); ## Add titles, legends, and labels \n",
    "plt.xlabel('Time \\n( hrs )',fontsize=14); ## Add x axis label\n",
    "plt.title('Gompertz Fit & Test Data',fontsize=16); ## Add y axis label\n",
    "plt.legend(loc='lower right'); ## Place the legend in lower right corner\n",
    "plt.tight_layout(); ## This makes everything pretty\n",
    "plt.savefig('Fit_to_growth.jpeg'); ## This will save the figure"
   ]
  },
  {
   "cell_type": "markdown",
   "metadata": {},
   "source": [
    "### 5.5.1\n",
    "##### What about the other samples in the data set; can you run our analysis and plot more than one sample on a figure or sub-figures? \n",
    "Hint: check out plt.subplots()\n",
    "### 5.5.2\n",
    "##### Explore the other models introduced in [Zwietering et al 1990](https://www.ncbi.nlm.nih.gov/pmc/articles/PMC184525/pdf/aem00087-0379.pdf), for a given sample do we see differences in the estimated parameters from different models?\n",
    "### 5.5.3\n",
    "##### From the question above, for a given sample, plot on the same figure the gompertz and logistic growth models."
   ]
  },
  {
   "cell_type": "code",
   "execution_count": null,
   "metadata": {
    "collapsed": true
   },
   "outputs": [],
   "source": []
  }
 ],
 "metadata": {
  "anaconda-cloud": {},
  "kernelspec": {
   "display_name": "Python 2",
   "language": "python",
   "name": "python2"
  },
  "language_info": {
   "codemirror_mode": {
    "name": "ipython",
    "version": 2
   },
   "file_extension": ".py",
   "mimetype": "text/x-python",
   "name": "python",
   "nbconvert_exporter": "python",
   "pygments_lexer": "ipython2",
   "version": "2.7.14"
  },
  "nbpresent": {
   "slides": {
    "04a8ef55-cb2b-40ad-9cbf-d4c15360b582": {
     "id": "04a8ef55-cb2b-40ad-9cbf-d4c15360b582",
     "prev": "20cca71b-72ac-4d25-a903-f169693356c3",
     "regions": {
      "081ffe39-a147-4498-824b-367ee1d9a66d": {
       "attrs": {
        "height": 0.8,
        "width": 0.8,
        "x": 0.1,
        "y": 0.1
       },
       "content": {
        "cell": "365b63cf-8c3f-40f2-a846-2d7171ee80d4",
        "part": "whole"
       },
       "id": "081ffe39-a147-4498-824b-367ee1d9a66d"
      }
     }
    },
    "056ef257-36c5-41f0-997a-1be11216384c": {
     "id": "056ef257-36c5-41f0-997a-1be11216384c",
     "prev": "a95430c6-5601-4eff-a6cb-b779b716cb3e",
     "regions": {
      "f2eca3c3-844f-4754-af51-310829110db9": {
       "attrs": {
        "height": 0.8,
        "width": 0.8,
        "x": 0.1,
        "y": 0.1
       },
       "content": {
        "cell": "23013f33-52ed-4efb-bd15-448283e20512",
        "part": "whole"
       },
       "id": "f2eca3c3-844f-4754-af51-310829110db9"
      }
     }
    },
    "13b2994e-7cec-4790-bf2e-6ce2c0bca77c": {
     "id": "13b2994e-7cec-4790-bf2e-6ce2c0bca77c",
     "prev": "da2dc6cc-4ec7-44a5-b9ff-c66d035bf65f",
     "regions": {
      "335bc144-d6aa-40ea-a9b1-d98fae56e847": {
       "attrs": {
        "height": 0.8,
        "width": 0.8,
        "x": 0.1,
        "y": 0.1
       },
       "content": {
        "cell": "60450a2f-4cf5-41fc-9798-bce4fb572da4",
        "part": "whole"
       },
       "id": "335bc144-d6aa-40ea-a9b1-d98fae56e847"
      }
     }
    },
    "20cca71b-72ac-4d25-a903-f169693356c3": {
     "id": "20cca71b-72ac-4d25-a903-f169693356c3",
     "prev": "3bf774b1-51f4-4471-a19c-fd581e8a6d23",
     "regions": {
      "2e7804ba-031b-4242-8c4c-a71f011dcf16": {
       "attrs": {
        "height": 0.8,
        "width": 0.8,
        "x": 0.1,
        "y": 0.1
       },
       "content": {
        "cell": "b0ee5a23-194d-43da-8995-a6d4c184d4be",
        "part": "whole"
       },
       "id": "2e7804ba-031b-4242-8c4c-a71f011dcf16"
      }
     }
    },
    "20ec2374-211c-4660-923b-ec47c400f51a": {
     "id": "20ec2374-211c-4660-923b-ec47c400f51a",
     "prev": "056ef257-36c5-41f0-997a-1be11216384c",
     "regions": {
      "6fa4d112-56b8-4e98-8478-7dabd894540b": {
       "attrs": {
        "height": 0.8,
        "width": 0.8,
        "x": 0.1,
        "y": 0.1
       },
       "content": {
        "cell": "f4b14b77-81c1-4f36-aa3c-48ff1b65f8e0",
        "part": "whole"
       },
       "id": "6fa4d112-56b8-4e98-8478-7dabd894540b"
      }
     }
    },
    "3bf774b1-51f4-4471-a19c-fd581e8a6d23": {
     "id": "3bf774b1-51f4-4471-a19c-fd581e8a6d23",
     "prev": "bbdf5f5e-0e81-4729-b655-cf9733209c5b",
     "regions": {
      "e34edd1a-d9e0-4e75-bae1-e83b1bdc4278": {
       "attrs": {
        "height": 0.8,
        "width": 0.8,
        "x": 0.1,
        "y": 0.1
       },
       "content": {
        "cell": "65c5efea-c8cc-4a62-b31a-b353c06ff887",
        "part": "whole"
       },
       "id": "e34edd1a-d9e0-4e75-bae1-e83b1bdc4278"
      }
     }
    },
    "40321d0c-bb0c-4e04-91ce-104ad94be804": {
     "id": "40321d0c-bb0c-4e04-91ce-104ad94be804",
     "prev": "73ca7296-dab0-4b96-93c3-db23fffc88b2",
     "regions": {
      "39626d59-7419-435f-83fb-4e2264f562a5": {
       "attrs": {
        "height": 0.8,
        "width": 0.8,
        "x": 0.1,
        "y": 0.1
       },
       "content": {
        "cell": "eb73388c-dc74-4434-9285-0276c8a5008e",
        "part": "whole"
       },
       "id": "39626d59-7419-435f-83fb-4e2264f562a5"
      }
     }
    },
    "43ff5f57-2c28-426b-9e0a-b7dfb8cd10e7": {
     "id": "43ff5f57-2c28-426b-9e0a-b7dfb8cd10e7",
     "prev": "04a8ef55-cb2b-40ad-9cbf-d4c15360b582",
     "regions": {
      "945bb407-635a-47a1-bba3-88dcaa73abce": {
       "attrs": {
        "height": 0.8,
        "width": 0.8,
        "x": 0.1,
        "y": 0.1
       },
       "content": {
        "cell": "5fbe74e0-2b1b-417e-bb14-5add60dfaf29",
        "part": "whole"
       },
       "id": "945bb407-635a-47a1-bba3-88dcaa73abce"
      }
     }
    },
    "4932b665-95fc-4987-9603-db7dc8942589": {
     "id": "4932b665-95fc-4987-9603-db7dc8942589",
     "prev": "40321d0c-bb0c-4e04-91ce-104ad94be804",
     "regions": {
      "905ccd9f-6d14-4a73-95e0-92ad6654dbe9": {
       "attrs": {
        "height": 0.8,
        "width": 0.8,
        "x": 0.1,
        "y": 0.1
       },
       "content": {
        "cell": "4944b4b6-3210-4158-ad05-2771673c967a",
        "part": "whole"
       },
       "id": "905ccd9f-6d14-4a73-95e0-92ad6654dbe9"
      }
     }
    },
    "60442b2d-3f9a-4cc9-b240-ff2b08d3b10b": {
     "id": "60442b2d-3f9a-4cc9-b240-ff2b08d3b10b",
     "prev": "20ec2374-211c-4660-923b-ec47c400f51a",
     "regions": {
      "0a1154ec-d36b-4b77-bd7a-1d7939b14f6f": {
       "attrs": {
        "height": 0.8,
        "width": 0.8,
        "x": 0.1,
        "y": 0.1
       },
       "content": {
        "cell": "7c25973b-0557-4069-b332-e15f12ee6955",
        "part": "whole"
       },
       "id": "0a1154ec-d36b-4b77-bd7a-1d7939b14f6f"
      }
     }
    },
    "69a2db50-fd37-428c-83f4-432e26cfbabd": {
     "id": "69a2db50-fd37-428c-83f4-432e26cfbabd",
     "prev": "13b2994e-7cec-4790-bf2e-6ce2c0bca77c",
     "regions": {
      "004bd45f-8b3e-4639-bfb1-91fbb594c2df": {
       "attrs": {
        "height": 0.8,
        "width": 0.8,
        "x": 0.1,
        "y": 0.1
       },
       "content": {
        "cell": "2542ce77-5045-4a38-83ca-1e42c1305a9a",
        "part": "whole"
       },
       "id": "004bd45f-8b3e-4639-bfb1-91fbb594c2df"
      }
     }
    },
    "73ca7296-dab0-4b96-93c3-db23fffc88b2": {
     "id": "73ca7296-dab0-4b96-93c3-db23fffc88b2",
     "prev": "43ff5f57-2c28-426b-9e0a-b7dfb8cd10e7",
     "regions": {
      "e364f12c-644b-4396-894a-99d15f0e1110": {
       "attrs": {
        "height": 0.8,
        "width": 0.8,
        "x": 0.1,
        "y": 0.1
       },
       "content": {
        "cell": "92521715-b4a5-4408-a924-64501222417f",
        "part": "whole"
       },
       "id": "e364f12c-644b-4396-894a-99d15f0e1110"
      }
     }
    },
    "a95430c6-5601-4eff-a6cb-b779b716cb3e": {
     "id": "a95430c6-5601-4eff-a6cb-b779b716cb3e",
     "prev": "69a2db50-fd37-428c-83f4-432e26cfbabd",
     "regions": {
      "402678a5-1ea0-4564-bf64-66078767cd2c": {
       "attrs": {
        "height": 0.8,
        "width": 0.8,
        "x": 0.1,
        "y": 0.1
       },
       "content": null,
       "id": "402678a5-1ea0-4564-bf64-66078767cd2c"
      }
     }
    },
    "bbdf5f5e-0e81-4729-b655-cf9733209c5b": {
     "id": "bbdf5f5e-0e81-4729-b655-cf9733209c5b",
     "prev": null,
     "regions": {
      "2c031084-6275-42e2-924d-55090ec0bcb6": {
       "attrs": {
        "height": 0.8,
        "width": 0.8,
        "x": 0.1,
        "y": 0.1
       },
       "content": {
        "cell": "55ca9868-afad-4f5a-bb3d-962969032bc1",
        "part": "whole"
       },
       "id": "2c031084-6275-42e2-924d-55090ec0bcb6"
      }
     }
    },
    "da2dc6cc-4ec7-44a5-b9ff-c66d035bf65f": {
     "id": "da2dc6cc-4ec7-44a5-b9ff-c66d035bf65f",
     "prev": "4932b665-95fc-4987-9603-db7dc8942589",
     "regions": {
      "184b699d-2d42-46bf-b58f-50f5a8e3883e": {
       "attrs": {
        "height": 0.8,
        "width": 0.8,
        "x": 0.1,
        "y": 0.1
       },
       "content": {
        "cell": "a8e4a1cd-01a5-4289-a79a-049d8a5ecdcc",
        "part": "whole"
       },
       "id": "184b699d-2d42-46bf-b58f-50f5a8e3883e"
      }
     }
    }
   },
   "themes": {}
  }
 },
 "nbformat": 4,
 "nbformat_minor": 1
}
